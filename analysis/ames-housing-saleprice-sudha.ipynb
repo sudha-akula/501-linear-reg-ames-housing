{
 "cells": [
  {
   "cell_type": "markdown",
   "id": "conceptual-wellington",
   "metadata": {},
   "source": [
    "## Mortgage Loans: Linear Regression Example"
   ]
  },
  {
   "cell_type": "markdown",
   "id": "e73afb6b-678f-494a-8e11-447795306fcd",
   "metadata": {},
   "source": [
    "### Table of Contents\n",
    "\n",
    "* [Read Data](#read_data)\n",
    "* [EDA, Feature Engineering](#eda_feature)\n",
    "    * [MSZoning](#mszoning)\n",
    "    * [GarageType](#garagetype)\n",
    "    * [HouseStyle](#housestyle)\n",
    "    * [KitchenQual](#kitchenqual)\n",
    "    * [BsmtQual](#bsmtqual)\n",
    "    * [ExterQual](#exterqual)    \n",
    "    * [ExterCond](#extercond)\n",
    "    * [CentralAir](#centralair)\n",
    "    * [SaleCondition](#salecondition)\n",
    "    * [BldgType](#bldgtype)\n",
    "    * [TotalSF](#totalsf)    \n",
    "    * [Bathrooms](#bathrooms)\n",
    "    * [Target SalePrice - Remove outliers ](#saleprice_remove_outliers)\n",
    "* [Target](#target)\n",
    "* [Standardize](#standardize)\n",
    "* [Correlation Matrix](#correlation)\n",
    "* [Model - Linear Regreassion - standardized vs non-standardized ](#model_lr)\n",
    "* [No difference in predictions for standardized vs non-standardized ](#standardize_vs_non_standardized)\n",
    "* [Evaluation](#evaluate)"
   ]
  },
  {
   "cell_type": "markdown",
   "id": "ab68a208-c246-48af-b658-a6ade5d7ce15",
   "metadata": {},
   "source": [
    "### Read Data <a class=\"anchor\" id=\"read_data\"></a>"
   ]
  },
  {
   "cell_type": "code",
   "execution_count": 77,
   "id": "flush-thomson",
   "metadata": {},
   "outputs": [],
   "source": [
    "import pandas as pd\n",
    "from sklearn.linear_model import LinearRegression\n",
    "from sklearn.model_selection import train_test_split\n",
    "from sklearn import metrics\n",
    "from sklearn.preprocessing import StandardScaler\n",
    "import matplotlib.pyplot as plt\n",
    "import seaborn as sns\n",
    "import numpy as np\n",
    "from math import sqrt\n",
    "import scipy.stats as stats\n",
    "pd.set_option('display.max_rows', 500)\n",
    "pd.set_option('display.max_columns', 500)\n",
    "pd.set_option('display.width', 1000)\n",
    "scale= StandardScaler()"
   ]
  },
  {
   "cell_type": "code",
   "execution_count": 78,
   "id": "ceramic-valve",
   "metadata": {},
   "outputs": [
    {
     "data": {
      "text/plain": [
       "(1460, 81)"
      ]
     },
     "execution_count": 78,
     "metadata": {},
     "output_type": "execute_result"
    }
   ],
   "source": [
    "df = pd.read_csv('../data/ames_housing.csv')\n",
    "df.shape"
   ]
  },
  {
   "cell_type": "code",
   "execution_count": 79,
   "id": "young-weight",
   "metadata": {},
   "outputs": [
    {
     "data": {
      "text/html": [
       "<div>\n",
       "<style scoped>\n",
       "    .dataframe tbody tr th:only-of-type {\n",
       "        vertical-align: middle;\n",
       "    }\n",
       "\n",
       "    .dataframe tbody tr th {\n",
       "        vertical-align: top;\n",
       "    }\n",
       "\n",
       "    .dataframe thead th {\n",
       "        text-align: right;\n",
       "    }\n",
       "</style>\n",
       "<table border=\"1\" class=\"dataframe\">\n",
       "  <thead>\n",
       "    <tr style=\"text-align: right;\">\n",
       "      <th></th>\n",
       "      <th>0</th>\n",
       "      <th>1</th>\n",
       "      <th>2</th>\n",
       "      <th>3</th>\n",
       "      <th>4</th>\n",
       "    </tr>\n",
       "  </thead>\n",
       "  <tbody>\n",
       "    <tr>\n",
       "      <th>Id</th>\n",
       "      <td>1</td>\n",
       "      <td>2</td>\n",
       "      <td>3</td>\n",
       "      <td>4</td>\n",
       "      <td>5</td>\n",
       "    </tr>\n",
       "    <tr>\n",
       "      <th>MSSubClass</th>\n",
       "      <td>60</td>\n",
       "      <td>20</td>\n",
       "      <td>60</td>\n",
       "      <td>70</td>\n",
       "      <td>60</td>\n",
       "    </tr>\n",
       "    <tr>\n",
       "      <th>MSZoning</th>\n",
       "      <td>RL</td>\n",
       "      <td>RL</td>\n",
       "      <td>RL</td>\n",
       "      <td>RL</td>\n",
       "      <td>RL</td>\n",
       "    </tr>\n",
       "    <tr>\n",
       "      <th>LotFrontage</th>\n",
       "      <td>65.0</td>\n",
       "      <td>80.0</td>\n",
       "      <td>68.0</td>\n",
       "      <td>60.0</td>\n",
       "      <td>84.0</td>\n",
       "    </tr>\n",
       "    <tr>\n",
       "      <th>LotArea</th>\n",
       "      <td>8450</td>\n",
       "      <td>9600</td>\n",
       "      <td>11250</td>\n",
       "      <td>9550</td>\n",
       "      <td>14260</td>\n",
       "    </tr>\n",
       "    <tr>\n",
       "      <th>Street</th>\n",
       "      <td>Pave</td>\n",
       "      <td>Pave</td>\n",
       "      <td>Pave</td>\n",
       "      <td>Pave</td>\n",
       "      <td>Pave</td>\n",
       "    </tr>\n",
       "    <tr>\n",
       "      <th>Alley</th>\n",
       "      <td>NaN</td>\n",
       "      <td>NaN</td>\n",
       "      <td>NaN</td>\n",
       "      <td>NaN</td>\n",
       "      <td>NaN</td>\n",
       "    </tr>\n",
       "    <tr>\n",
       "      <th>LotShape</th>\n",
       "      <td>Reg</td>\n",
       "      <td>Reg</td>\n",
       "      <td>IR1</td>\n",
       "      <td>IR1</td>\n",
       "      <td>IR1</td>\n",
       "    </tr>\n",
       "    <tr>\n",
       "      <th>LandContour</th>\n",
       "      <td>Lvl</td>\n",
       "      <td>Lvl</td>\n",
       "      <td>Lvl</td>\n",
       "      <td>Lvl</td>\n",
       "      <td>Lvl</td>\n",
       "    </tr>\n",
       "    <tr>\n",
       "      <th>Utilities</th>\n",
       "      <td>AllPub</td>\n",
       "      <td>AllPub</td>\n",
       "      <td>AllPub</td>\n",
       "      <td>AllPub</td>\n",
       "      <td>AllPub</td>\n",
       "    </tr>\n",
       "    <tr>\n",
       "      <th>LotConfig</th>\n",
       "      <td>Inside</td>\n",
       "      <td>FR2</td>\n",
       "      <td>Inside</td>\n",
       "      <td>Corner</td>\n",
       "      <td>FR2</td>\n",
       "    </tr>\n",
       "    <tr>\n",
       "      <th>LandSlope</th>\n",
       "      <td>Gtl</td>\n",
       "      <td>Gtl</td>\n",
       "      <td>Gtl</td>\n",
       "      <td>Gtl</td>\n",
       "      <td>Gtl</td>\n",
       "    </tr>\n",
       "    <tr>\n",
       "      <th>Neighborhood</th>\n",
       "      <td>CollgCr</td>\n",
       "      <td>Veenker</td>\n",
       "      <td>CollgCr</td>\n",
       "      <td>Crawfor</td>\n",
       "      <td>NoRidge</td>\n",
       "    </tr>\n",
       "    <tr>\n",
       "      <th>Condition1</th>\n",
       "      <td>Norm</td>\n",
       "      <td>Feedr</td>\n",
       "      <td>Norm</td>\n",
       "      <td>Norm</td>\n",
       "      <td>Norm</td>\n",
       "    </tr>\n",
       "    <tr>\n",
       "      <th>Condition2</th>\n",
       "      <td>Norm</td>\n",
       "      <td>Norm</td>\n",
       "      <td>Norm</td>\n",
       "      <td>Norm</td>\n",
       "      <td>Norm</td>\n",
       "    </tr>\n",
       "    <tr>\n",
       "      <th>BldgType</th>\n",
       "      <td>1Fam</td>\n",
       "      <td>1Fam</td>\n",
       "      <td>1Fam</td>\n",
       "      <td>1Fam</td>\n",
       "      <td>1Fam</td>\n",
       "    </tr>\n",
       "    <tr>\n",
       "      <th>HouseStyle</th>\n",
       "      <td>2Story</td>\n",
       "      <td>1Story</td>\n",
       "      <td>2Story</td>\n",
       "      <td>2Story</td>\n",
       "      <td>2Story</td>\n",
       "    </tr>\n",
       "    <tr>\n",
       "      <th>OverallQual</th>\n",
       "      <td>7</td>\n",
       "      <td>6</td>\n",
       "      <td>7</td>\n",
       "      <td>7</td>\n",
       "      <td>8</td>\n",
       "    </tr>\n",
       "    <tr>\n",
       "      <th>OverallCond</th>\n",
       "      <td>5</td>\n",
       "      <td>8</td>\n",
       "      <td>5</td>\n",
       "      <td>5</td>\n",
       "      <td>5</td>\n",
       "    </tr>\n",
       "    <tr>\n",
       "      <th>YearBuilt</th>\n",
       "      <td>2003</td>\n",
       "      <td>1976</td>\n",
       "      <td>2001</td>\n",
       "      <td>1915</td>\n",
       "      <td>2000</td>\n",
       "    </tr>\n",
       "    <tr>\n",
       "      <th>YearRemodAdd</th>\n",
       "      <td>2003</td>\n",
       "      <td>1976</td>\n",
       "      <td>2002</td>\n",
       "      <td>1970</td>\n",
       "      <td>2000</td>\n",
       "    </tr>\n",
       "    <tr>\n",
       "      <th>RoofStyle</th>\n",
       "      <td>Gable</td>\n",
       "      <td>Gable</td>\n",
       "      <td>Gable</td>\n",
       "      <td>Gable</td>\n",
       "      <td>Gable</td>\n",
       "    </tr>\n",
       "    <tr>\n",
       "      <th>RoofMatl</th>\n",
       "      <td>CompShg</td>\n",
       "      <td>CompShg</td>\n",
       "      <td>CompShg</td>\n",
       "      <td>CompShg</td>\n",
       "      <td>CompShg</td>\n",
       "    </tr>\n",
       "    <tr>\n",
       "      <th>Exterior1st</th>\n",
       "      <td>VinylSd</td>\n",
       "      <td>MetalSd</td>\n",
       "      <td>VinylSd</td>\n",
       "      <td>Wd Sdng</td>\n",
       "      <td>VinylSd</td>\n",
       "    </tr>\n",
       "    <tr>\n",
       "      <th>Exterior2nd</th>\n",
       "      <td>VinylSd</td>\n",
       "      <td>MetalSd</td>\n",
       "      <td>VinylSd</td>\n",
       "      <td>Wd Shng</td>\n",
       "      <td>VinylSd</td>\n",
       "    </tr>\n",
       "    <tr>\n",
       "      <th>MasVnrType</th>\n",
       "      <td>BrkFace</td>\n",
       "      <td>None</td>\n",
       "      <td>BrkFace</td>\n",
       "      <td>None</td>\n",
       "      <td>BrkFace</td>\n",
       "    </tr>\n",
       "    <tr>\n",
       "      <th>MasVnrArea</th>\n",
       "      <td>196.0</td>\n",
       "      <td>0.0</td>\n",
       "      <td>162.0</td>\n",
       "      <td>0.0</td>\n",
       "      <td>350.0</td>\n",
       "    </tr>\n",
       "    <tr>\n",
       "      <th>ExterQual</th>\n",
       "      <td>Gd</td>\n",
       "      <td>TA</td>\n",
       "      <td>Gd</td>\n",
       "      <td>TA</td>\n",
       "      <td>Gd</td>\n",
       "    </tr>\n",
       "    <tr>\n",
       "      <th>ExterCond</th>\n",
       "      <td>TA</td>\n",
       "      <td>TA</td>\n",
       "      <td>TA</td>\n",
       "      <td>TA</td>\n",
       "      <td>TA</td>\n",
       "    </tr>\n",
       "    <tr>\n",
       "      <th>Foundation</th>\n",
       "      <td>PConc</td>\n",
       "      <td>CBlock</td>\n",
       "      <td>PConc</td>\n",
       "      <td>BrkTil</td>\n",
       "      <td>PConc</td>\n",
       "    </tr>\n",
       "    <tr>\n",
       "      <th>BsmtQual</th>\n",
       "      <td>Gd</td>\n",
       "      <td>Gd</td>\n",
       "      <td>Gd</td>\n",
       "      <td>TA</td>\n",
       "      <td>Gd</td>\n",
       "    </tr>\n",
       "    <tr>\n",
       "      <th>BsmtCond</th>\n",
       "      <td>TA</td>\n",
       "      <td>TA</td>\n",
       "      <td>TA</td>\n",
       "      <td>Gd</td>\n",
       "      <td>TA</td>\n",
       "    </tr>\n",
       "    <tr>\n",
       "      <th>BsmtExposure</th>\n",
       "      <td>No</td>\n",
       "      <td>Gd</td>\n",
       "      <td>Mn</td>\n",
       "      <td>No</td>\n",
       "      <td>Av</td>\n",
       "    </tr>\n",
       "    <tr>\n",
       "      <th>BsmtFinType1</th>\n",
       "      <td>GLQ</td>\n",
       "      <td>ALQ</td>\n",
       "      <td>GLQ</td>\n",
       "      <td>ALQ</td>\n",
       "      <td>GLQ</td>\n",
       "    </tr>\n",
       "    <tr>\n",
       "      <th>BsmtFinSF1</th>\n",
       "      <td>706</td>\n",
       "      <td>978</td>\n",
       "      <td>486</td>\n",
       "      <td>216</td>\n",
       "      <td>655</td>\n",
       "    </tr>\n",
       "    <tr>\n",
       "      <th>BsmtFinType2</th>\n",
       "      <td>Unf</td>\n",
       "      <td>Unf</td>\n",
       "      <td>Unf</td>\n",
       "      <td>Unf</td>\n",
       "      <td>Unf</td>\n",
       "    </tr>\n",
       "    <tr>\n",
       "      <th>BsmtFinSF2</th>\n",
       "      <td>0</td>\n",
       "      <td>0</td>\n",
       "      <td>0</td>\n",
       "      <td>0</td>\n",
       "      <td>0</td>\n",
       "    </tr>\n",
       "    <tr>\n",
       "      <th>BsmtUnfSF</th>\n",
       "      <td>150</td>\n",
       "      <td>284</td>\n",
       "      <td>434</td>\n",
       "      <td>540</td>\n",
       "      <td>490</td>\n",
       "    </tr>\n",
       "    <tr>\n",
       "      <th>TotalBsmtSF</th>\n",
       "      <td>856</td>\n",
       "      <td>1262</td>\n",
       "      <td>920</td>\n",
       "      <td>756</td>\n",
       "      <td>1145</td>\n",
       "    </tr>\n",
       "    <tr>\n",
       "      <th>Heating</th>\n",
       "      <td>GasA</td>\n",
       "      <td>GasA</td>\n",
       "      <td>GasA</td>\n",
       "      <td>GasA</td>\n",
       "      <td>GasA</td>\n",
       "    </tr>\n",
       "    <tr>\n",
       "      <th>HeatingQC</th>\n",
       "      <td>Ex</td>\n",
       "      <td>Ex</td>\n",
       "      <td>Ex</td>\n",
       "      <td>Gd</td>\n",
       "      <td>Ex</td>\n",
       "    </tr>\n",
       "    <tr>\n",
       "      <th>CentralAir</th>\n",
       "      <td>Y</td>\n",
       "      <td>Y</td>\n",
       "      <td>Y</td>\n",
       "      <td>Y</td>\n",
       "      <td>Y</td>\n",
       "    </tr>\n",
       "    <tr>\n",
       "      <th>Electrical</th>\n",
       "      <td>SBrkr</td>\n",
       "      <td>SBrkr</td>\n",
       "      <td>SBrkr</td>\n",
       "      <td>SBrkr</td>\n",
       "      <td>SBrkr</td>\n",
       "    </tr>\n",
       "    <tr>\n",
       "      <th>1stFlrSF</th>\n",
       "      <td>856</td>\n",
       "      <td>1262</td>\n",
       "      <td>920</td>\n",
       "      <td>961</td>\n",
       "      <td>1145</td>\n",
       "    </tr>\n",
       "    <tr>\n",
       "      <th>2ndFlrSF</th>\n",
       "      <td>854</td>\n",
       "      <td>0</td>\n",
       "      <td>866</td>\n",
       "      <td>756</td>\n",
       "      <td>1053</td>\n",
       "    </tr>\n",
       "    <tr>\n",
       "      <th>LowQualFinSF</th>\n",
       "      <td>0</td>\n",
       "      <td>0</td>\n",
       "      <td>0</td>\n",
       "      <td>0</td>\n",
       "      <td>0</td>\n",
       "    </tr>\n",
       "    <tr>\n",
       "      <th>GrLivArea</th>\n",
       "      <td>1710</td>\n",
       "      <td>1262</td>\n",
       "      <td>1786</td>\n",
       "      <td>1717</td>\n",
       "      <td>2198</td>\n",
       "    </tr>\n",
       "    <tr>\n",
       "      <th>BsmtFullBath</th>\n",
       "      <td>1</td>\n",
       "      <td>0</td>\n",
       "      <td>1</td>\n",
       "      <td>1</td>\n",
       "      <td>1</td>\n",
       "    </tr>\n",
       "    <tr>\n",
       "      <th>BsmtHalfBath</th>\n",
       "      <td>0</td>\n",
       "      <td>1</td>\n",
       "      <td>0</td>\n",
       "      <td>0</td>\n",
       "      <td>0</td>\n",
       "    </tr>\n",
       "    <tr>\n",
       "      <th>FullBath</th>\n",
       "      <td>2</td>\n",
       "      <td>2</td>\n",
       "      <td>2</td>\n",
       "      <td>1</td>\n",
       "      <td>2</td>\n",
       "    </tr>\n",
       "    <tr>\n",
       "      <th>HalfBath</th>\n",
       "      <td>1</td>\n",
       "      <td>0</td>\n",
       "      <td>1</td>\n",
       "      <td>0</td>\n",
       "      <td>1</td>\n",
       "    </tr>\n",
       "    <tr>\n",
       "      <th>BedroomAbvGr</th>\n",
       "      <td>3</td>\n",
       "      <td>3</td>\n",
       "      <td>3</td>\n",
       "      <td>3</td>\n",
       "      <td>4</td>\n",
       "    </tr>\n",
       "    <tr>\n",
       "      <th>KitchenAbvGr</th>\n",
       "      <td>1</td>\n",
       "      <td>1</td>\n",
       "      <td>1</td>\n",
       "      <td>1</td>\n",
       "      <td>1</td>\n",
       "    </tr>\n",
       "    <tr>\n",
       "      <th>KitchenQual</th>\n",
       "      <td>Gd</td>\n",
       "      <td>TA</td>\n",
       "      <td>Gd</td>\n",
       "      <td>Gd</td>\n",
       "      <td>Gd</td>\n",
       "    </tr>\n",
       "    <tr>\n",
       "      <th>TotRmsAbvGrd</th>\n",
       "      <td>8</td>\n",
       "      <td>6</td>\n",
       "      <td>6</td>\n",
       "      <td>7</td>\n",
       "      <td>9</td>\n",
       "    </tr>\n",
       "    <tr>\n",
       "      <th>Functional</th>\n",
       "      <td>Typ</td>\n",
       "      <td>Typ</td>\n",
       "      <td>Typ</td>\n",
       "      <td>Typ</td>\n",
       "      <td>Typ</td>\n",
       "    </tr>\n",
       "    <tr>\n",
       "      <th>Fireplaces</th>\n",
       "      <td>0</td>\n",
       "      <td>1</td>\n",
       "      <td>1</td>\n",
       "      <td>1</td>\n",
       "      <td>1</td>\n",
       "    </tr>\n",
       "    <tr>\n",
       "      <th>FireplaceQu</th>\n",
       "      <td>NaN</td>\n",
       "      <td>TA</td>\n",
       "      <td>TA</td>\n",
       "      <td>Gd</td>\n",
       "      <td>TA</td>\n",
       "    </tr>\n",
       "    <tr>\n",
       "      <th>GarageType</th>\n",
       "      <td>Attchd</td>\n",
       "      <td>Attchd</td>\n",
       "      <td>Attchd</td>\n",
       "      <td>Detchd</td>\n",
       "      <td>Attchd</td>\n",
       "    </tr>\n",
       "    <tr>\n",
       "      <th>GarageYrBlt</th>\n",
       "      <td>2003.0</td>\n",
       "      <td>1976.0</td>\n",
       "      <td>2001.0</td>\n",
       "      <td>1998.0</td>\n",
       "      <td>2000.0</td>\n",
       "    </tr>\n",
       "    <tr>\n",
       "      <th>GarageFinish</th>\n",
       "      <td>RFn</td>\n",
       "      <td>RFn</td>\n",
       "      <td>RFn</td>\n",
       "      <td>Unf</td>\n",
       "      <td>RFn</td>\n",
       "    </tr>\n",
       "    <tr>\n",
       "      <th>GarageCars</th>\n",
       "      <td>2</td>\n",
       "      <td>2</td>\n",
       "      <td>2</td>\n",
       "      <td>3</td>\n",
       "      <td>3</td>\n",
       "    </tr>\n",
       "    <tr>\n",
       "      <th>GarageArea</th>\n",
       "      <td>548</td>\n",
       "      <td>460</td>\n",
       "      <td>608</td>\n",
       "      <td>642</td>\n",
       "      <td>836</td>\n",
       "    </tr>\n",
       "    <tr>\n",
       "      <th>GarageQual</th>\n",
       "      <td>TA</td>\n",
       "      <td>TA</td>\n",
       "      <td>TA</td>\n",
       "      <td>TA</td>\n",
       "      <td>TA</td>\n",
       "    </tr>\n",
       "    <tr>\n",
       "      <th>GarageCond</th>\n",
       "      <td>TA</td>\n",
       "      <td>TA</td>\n",
       "      <td>TA</td>\n",
       "      <td>TA</td>\n",
       "      <td>TA</td>\n",
       "    </tr>\n",
       "    <tr>\n",
       "      <th>PavedDrive</th>\n",
       "      <td>Y</td>\n",
       "      <td>Y</td>\n",
       "      <td>Y</td>\n",
       "      <td>Y</td>\n",
       "      <td>Y</td>\n",
       "    </tr>\n",
       "    <tr>\n",
       "      <th>WoodDeckSF</th>\n",
       "      <td>0</td>\n",
       "      <td>298</td>\n",
       "      <td>0</td>\n",
       "      <td>0</td>\n",
       "      <td>192</td>\n",
       "    </tr>\n",
       "    <tr>\n",
       "      <th>OpenPorchSF</th>\n",
       "      <td>61</td>\n",
       "      <td>0</td>\n",
       "      <td>42</td>\n",
       "      <td>35</td>\n",
       "      <td>84</td>\n",
       "    </tr>\n",
       "    <tr>\n",
       "      <th>EnclosedPorch</th>\n",
       "      <td>0</td>\n",
       "      <td>0</td>\n",
       "      <td>0</td>\n",
       "      <td>272</td>\n",
       "      <td>0</td>\n",
       "    </tr>\n",
       "    <tr>\n",
       "      <th>3SsnPorch</th>\n",
       "      <td>0</td>\n",
       "      <td>0</td>\n",
       "      <td>0</td>\n",
       "      <td>0</td>\n",
       "      <td>0</td>\n",
       "    </tr>\n",
       "    <tr>\n",
       "      <th>ScreenPorch</th>\n",
       "      <td>0</td>\n",
       "      <td>0</td>\n",
       "      <td>0</td>\n",
       "      <td>0</td>\n",
       "      <td>0</td>\n",
       "    </tr>\n",
       "    <tr>\n",
       "      <th>PoolArea</th>\n",
       "      <td>0</td>\n",
       "      <td>0</td>\n",
       "      <td>0</td>\n",
       "      <td>0</td>\n",
       "      <td>0</td>\n",
       "    </tr>\n",
       "    <tr>\n",
       "      <th>PoolQC</th>\n",
       "      <td>NaN</td>\n",
       "      <td>NaN</td>\n",
       "      <td>NaN</td>\n",
       "      <td>NaN</td>\n",
       "      <td>NaN</td>\n",
       "    </tr>\n",
       "    <tr>\n",
       "      <th>Fence</th>\n",
       "      <td>NaN</td>\n",
       "      <td>NaN</td>\n",
       "      <td>NaN</td>\n",
       "      <td>NaN</td>\n",
       "      <td>NaN</td>\n",
       "    </tr>\n",
       "    <tr>\n",
       "      <th>MiscFeature</th>\n",
       "      <td>NaN</td>\n",
       "      <td>NaN</td>\n",
       "      <td>NaN</td>\n",
       "      <td>NaN</td>\n",
       "      <td>NaN</td>\n",
       "    </tr>\n",
       "    <tr>\n",
       "      <th>MiscVal</th>\n",
       "      <td>0</td>\n",
       "      <td>0</td>\n",
       "      <td>0</td>\n",
       "      <td>0</td>\n",
       "      <td>0</td>\n",
       "    </tr>\n",
       "    <tr>\n",
       "      <th>MoSold</th>\n",
       "      <td>2</td>\n",
       "      <td>5</td>\n",
       "      <td>9</td>\n",
       "      <td>2</td>\n",
       "      <td>12</td>\n",
       "    </tr>\n",
       "    <tr>\n",
       "      <th>YrSold</th>\n",
       "      <td>2008</td>\n",
       "      <td>2007</td>\n",
       "      <td>2008</td>\n",
       "      <td>2006</td>\n",
       "      <td>2008</td>\n",
       "    </tr>\n",
       "    <tr>\n",
       "      <th>SaleType</th>\n",
       "      <td>WD</td>\n",
       "      <td>WD</td>\n",
       "      <td>WD</td>\n",
       "      <td>WD</td>\n",
       "      <td>WD</td>\n",
       "    </tr>\n",
       "    <tr>\n",
       "      <th>SaleCondition</th>\n",
       "      <td>Normal</td>\n",
       "      <td>Normal</td>\n",
       "      <td>Normal</td>\n",
       "      <td>Abnorml</td>\n",
       "      <td>Normal</td>\n",
       "    </tr>\n",
       "    <tr>\n",
       "      <th>SalePrice</th>\n",
       "      <td>208500</td>\n",
       "      <td>181500</td>\n",
       "      <td>223500</td>\n",
       "      <td>140000</td>\n",
       "      <td>250000</td>\n",
       "    </tr>\n",
       "  </tbody>\n",
       "</table>\n",
       "</div>"
      ],
      "text/plain": [
       "                     0        1        2        3        4\n",
       "Id                   1        2        3        4        5\n",
       "MSSubClass          60       20       60       70       60\n",
       "MSZoning            RL       RL       RL       RL       RL\n",
       "LotFrontage       65.0     80.0     68.0     60.0     84.0\n",
       "LotArea           8450     9600    11250     9550    14260\n",
       "Street            Pave     Pave     Pave     Pave     Pave\n",
       "Alley              NaN      NaN      NaN      NaN      NaN\n",
       "LotShape           Reg      Reg      IR1      IR1      IR1\n",
       "LandContour        Lvl      Lvl      Lvl      Lvl      Lvl\n",
       "Utilities       AllPub   AllPub   AllPub   AllPub   AllPub\n",
       "LotConfig       Inside      FR2   Inside   Corner      FR2\n",
       "LandSlope          Gtl      Gtl      Gtl      Gtl      Gtl\n",
       "Neighborhood   CollgCr  Veenker  CollgCr  Crawfor  NoRidge\n",
       "Condition1        Norm    Feedr     Norm     Norm     Norm\n",
       "Condition2        Norm     Norm     Norm     Norm     Norm\n",
       "BldgType          1Fam     1Fam     1Fam     1Fam     1Fam\n",
       "HouseStyle      2Story   1Story   2Story   2Story   2Story\n",
       "OverallQual          7        6        7        7        8\n",
       "OverallCond          5        8        5        5        5\n",
       "YearBuilt         2003     1976     2001     1915     2000\n",
       "YearRemodAdd      2003     1976     2002     1970     2000\n",
       "RoofStyle        Gable    Gable    Gable    Gable    Gable\n",
       "RoofMatl       CompShg  CompShg  CompShg  CompShg  CompShg\n",
       "Exterior1st    VinylSd  MetalSd  VinylSd  Wd Sdng  VinylSd\n",
       "Exterior2nd    VinylSd  MetalSd  VinylSd  Wd Shng  VinylSd\n",
       "MasVnrType     BrkFace     None  BrkFace     None  BrkFace\n",
       "MasVnrArea       196.0      0.0    162.0      0.0    350.0\n",
       "ExterQual           Gd       TA       Gd       TA       Gd\n",
       "ExterCond           TA       TA       TA       TA       TA\n",
       "Foundation       PConc   CBlock    PConc   BrkTil    PConc\n",
       "BsmtQual            Gd       Gd       Gd       TA       Gd\n",
       "BsmtCond            TA       TA       TA       Gd       TA\n",
       "BsmtExposure        No       Gd       Mn       No       Av\n",
       "BsmtFinType1       GLQ      ALQ      GLQ      ALQ      GLQ\n",
       "BsmtFinSF1         706      978      486      216      655\n",
       "BsmtFinType2       Unf      Unf      Unf      Unf      Unf\n",
       "BsmtFinSF2           0        0        0        0        0\n",
       "BsmtUnfSF          150      284      434      540      490\n",
       "TotalBsmtSF        856     1262      920      756     1145\n",
       "Heating           GasA     GasA     GasA     GasA     GasA\n",
       "HeatingQC           Ex       Ex       Ex       Gd       Ex\n",
       "CentralAir           Y        Y        Y        Y        Y\n",
       "Electrical       SBrkr    SBrkr    SBrkr    SBrkr    SBrkr\n",
       "1stFlrSF           856     1262      920      961     1145\n",
       "2ndFlrSF           854        0      866      756     1053\n",
       "LowQualFinSF         0        0        0        0        0\n",
       "GrLivArea         1710     1262     1786     1717     2198\n",
       "BsmtFullBath         1        0        1        1        1\n",
       "BsmtHalfBath         0        1        0        0        0\n",
       "FullBath             2        2        2        1        2\n",
       "HalfBath             1        0        1        0        1\n",
       "BedroomAbvGr         3        3        3        3        4\n",
       "KitchenAbvGr         1        1        1        1        1\n",
       "KitchenQual         Gd       TA       Gd       Gd       Gd\n",
       "TotRmsAbvGrd         8        6        6        7        9\n",
       "Functional         Typ      Typ      Typ      Typ      Typ\n",
       "Fireplaces           0        1        1        1        1\n",
       "FireplaceQu        NaN       TA       TA       Gd       TA\n",
       "GarageType      Attchd   Attchd   Attchd   Detchd   Attchd\n",
       "GarageYrBlt     2003.0   1976.0   2001.0   1998.0   2000.0\n",
       "GarageFinish       RFn      RFn      RFn      Unf      RFn\n",
       "GarageCars           2        2        2        3        3\n",
       "GarageArea         548      460      608      642      836\n",
       "GarageQual          TA       TA       TA       TA       TA\n",
       "GarageCond          TA       TA       TA       TA       TA\n",
       "PavedDrive           Y        Y        Y        Y        Y\n",
       "WoodDeckSF           0      298        0        0      192\n",
       "OpenPorchSF         61        0       42       35       84\n",
       "EnclosedPorch        0        0        0      272        0\n",
       "3SsnPorch            0        0        0        0        0\n",
       "ScreenPorch          0        0        0        0        0\n",
       "PoolArea             0        0        0        0        0\n",
       "PoolQC             NaN      NaN      NaN      NaN      NaN\n",
       "Fence              NaN      NaN      NaN      NaN      NaN\n",
       "MiscFeature        NaN      NaN      NaN      NaN      NaN\n",
       "MiscVal              0        0        0        0        0\n",
       "MoSold               2        5        9        2       12\n",
       "YrSold            2008     2007     2008     2006     2008\n",
       "SaleType            WD       WD       WD       WD       WD\n",
       "SaleCondition   Normal   Normal   Normal  Abnorml   Normal\n",
       "SalePrice       208500   181500   223500   140000   250000"
      ]
     },
     "execution_count": 79,
     "metadata": {},
     "output_type": "execute_result"
    }
   ],
   "source": [
    "df.head().T"
   ]
  },
  {
   "cell_type": "markdown",
   "id": "expected-finish",
   "metadata": {},
   "source": [
    "### EDA, Feature Engineering <a class=\"anchor\" id=\"eda_feature\"></a>"
   ]
  },
  {
   "cell_type": "code",
   "execution_count": 80,
   "id": "c377b095-01fa-4eed-acbd-ad9983cdde18",
   "metadata": {},
   "outputs": [
    {
     "data": {
      "text/plain": [
       "PoolQC          1453\n",
       "MiscFeature     1406\n",
       "Alley           1369\n",
       "Fence           1179\n",
       "FireplaceQu      690\n",
       "LotFrontage      259\n",
       "GarageType        81\n",
       "GarageYrBlt       81\n",
       "GarageFinish      81\n",
       "GarageQual        81\n",
       "GarageCond        81\n",
       "BsmtExposure      38\n",
       "BsmtFinType2      38\n",
       "BsmtFinType1      37\n",
       "BsmtCond          37\n",
       "BsmtQual          37\n",
       "MasVnrArea         8\n",
       "MasVnrType         8\n",
       "Electrical         1\n",
       "dtype: int64"
      ]
     },
     "execution_count": 80,
     "metadata": {},
     "output_type": "execute_result"
    }
   ],
   "source": [
    "# get count of null values by column and only display coulmns that have non-zero count of null values\n",
    "df[df.columns[df.isnull().any()].tolist()].isnull().sum().sort_values(ascending=False)"
   ]
  },
  {
   "cell_type": "code",
   "execution_count": 81,
   "id": "46308c83-fbdf-484c-8dde-de5234c1f8c4",
   "metadata": {},
   "outputs": [
    {
     "name": "stdout",
     "output_type": "stream",
     "text": [
      "(1460, 81)\n",
      "(1450, 81)\n"
     ]
    },
    {
     "data": {
      "text/plain": [
       "RL    1151\n",
       "RM     218\n",
       "FV      65\n",
       "RH      16\n",
       "Name: MSZoning, dtype: int64"
      ]
     },
     "execution_count": 81,
     "metadata": {},
     "output_type": "execute_result"
    }
   ],
   "source": [
    "# remove commercial zoning\n",
    "#print(len(df.columns))\n",
    "print(df.shape)\n",
    "df=df[df['MSZoning'] != 'C (all)']    #drop 10 rows\n",
    "print(df.shape)\n",
    "df['MSZoning'].value_counts().head(10)"
   ]
  },
  {
   "cell_type": "code",
   "execution_count": 82,
   "id": "8614fbf8-3de4-4eae-835c-d7fb3d33a506",
   "metadata": {},
   "outputs": [],
   "source": [
    "#df_dummies=pd.get_dummies(df)"
   ]
  },
  {
   "cell_type": "code",
   "execution_count": 83,
   "id": "4eaacf9e-8360-4c26-b495-fcdbdc21bab5",
   "metadata": {},
   "outputs": [],
   "source": [
    "# this makes for too many columns!\n",
    "# df_dummies.head(5)"
   ]
  },
  {
   "cell_type": "code",
   "execution_count": 84,
   "id": "b9be6383-9390-4676-972e-abf160e5a3f7",
   "metadata": {},
   "outputs": [],
   "source": [
    "### different ways of label encoding\n",
    "## approach 1\n",
    "# # FV - Floating Village retirement homes\n",
    "# cond_zone = [df['MSZoning']=='RL',df['MSZoning']=='RM',df['MSZoning']=='FV',df['MSZoning']=='RH']\n",
    "# val_zone = [4,3,2,1]\n",
    "# df['MSZoning_num']=np.select(cond_zone, val_zone, default=0)"
   ]
  },
  {
   "cell_type": "code",
   "execution_count": 85,
   "id": "a56c7d1a-6f7d-4813-95c5-be70d5915f5e",
   "metadata": {},
   "outputs": [],
   "source": [
    "# # use map instaed of above\n",
    "# zones = {'RL': 4, 'RM': 3, 'FV': 2, 'RH': 1}\n",
    "# df['MSZoning_num2'] = df['MSZoning'].map(zones)"
   ]
  },
  {
   "cell_type": "markdown",
   "id": "4b79910a-1ab2-4f8c-ad22-473cb5cc6db0",
   "metadata": {},
   "source": [
    "#### MSZoning <a class=\"anchor\" id=\"mszoning\"></a>"
   ]
  },
  {
   "cell_type": "code",
   "execution_count": 86,
   "id": "76cd7fe7-e9ef-4a1d-bc3a-915745396aa9",
   "metadata": {},
   "outputs": [],
   "source": [
    "# map using dict and zip\n",
    "df['MSZoning_num'] = df['MSZoning'].map(dict(zip(['RL','RM','FV','RH'],[4,3,2,1])))"
   ]
  },
  {
   "cell_type": "code",
   "execution_count": 87,
   "id": "5ee1e6b2-ae02-4b58-b929-d9485cf157ae",
   "metadata": {},
   "outputs": [
    {
     "name": "stdout",
     "output_type": "stream",
     "text": [
      "Attchd     870\n",
      "Detchd     381\n",
      "BuiltIn     88\n",
      "Basment     18\n",
      "CarPort      8\n",
      "2Types       6\n",
      "Name: GarageType, dtype: int64\n"
     ]
    },
    {
     "data": {
      "text/plain": [
       "79"
      ]
     },
     "execution_count": 87,
     "metadata": {},
     "output_type": "execute_result"
    }
   ],
   "source": [
    "print(df['GarageType'].value_counts().head(10))\n",
    "df['GarageType'].isnull().sum()"
   ]
  },
  {
   "cell_type": "code",
   "execution_count": 88,
   "id": "7e22cd5a-b626-4173-949d-4744c4c528f8",
   "metadata": {},
   "outputs": [],
   "source": [
    "#### GarageType <a class=\"anchor\" id=\"garagetype\"></a>"
   ]
  },
  {
   "cell_type": "code",
   "execution_count": 89,
   "id": "0a14d181-e83c-4cff-aa44-f2093a8c5de9",
   "metadata": {},
   "outputs": [],
   "source": [
    "# classify garages as attached / detached\n",
    "df['GarageAttached']=np.where(\n",
    "    (df['GarageType']=='Attchd') | (df['GarageType'] == 'BuiltIn') | (df['GarageType']=='Basment') | \n",
    "    (df['GarageType']=='2Types')\n",
    "    ,1,0)"
   ]
  },
  {
   "cell_type": "code",
   "execution_count": 90,
   "id": "641326b3-9029-46f1-986e-d7c03cfd7949",
   "metadata": {},
   "outputs": [
    {
     "data": {
      "text/plain": [
       "1    982\n",
       "0    468\n",
       "Name: GarageAttached, dtype: int64"
      ]
     },
     "execution_count": 90,
     "metadata": {},
     "output_type": "execute_result"
    }
   ],
   "source": [
    "df['GarageAttached'].value_counts()"
   ]
  },
  {
   "cell_type": "code",
   "execution_count": 91,
   "id": "3f986a42-1700-4cb6-80ac-f98f7f09d57c",
   "metadata": {},
   "outputs": [],
   "source": [
    "#### HouseStyle <a class=\"anchor\" id=\"housestyle\"></a>"
   ]
  },
  {
   "cell_type": "code",
   "execution_count": 92,
   "id": "dc48d3eb-30da-4867-b044-d5f508fb0f5f",
   "metadata": {},
   "outputs": [],
   "source": [
    "# # split house style into 1, 1.5, 2, 2.5\n",
    "# # using np.where conditions\n",
    "# conds = [df['HouseStyle']=='1Story', (df['HouseStyle']=='1.5Fin') | \n",
    "#     (df['HouseStyle']=='1.5Unf') | (df['HouseStyle']=='SLvl') | (df['HouseStyle']=='SFoyer'), (df['HouseStyle']=='2Story'), (df['HouseStyle']=='2.5Fin') | \n",
    "#     (df['HouseStyle']=='2.5Unf')]\n",
    "# vals = [1,1.5,2,2.5]\n",
    "\n",
    "# df['HouseStory']=np.select(conds, vals, default=0)\n",
    "# df['HouseStory'].value_counts()\n",
    "\n",
    "df['HouseStory']=np.where(df['HouseStyle']=='1Story',1,0)"
   ]
  },
  {
   "cell_type": "code",
   "execution_count": 93,
   "id": "6069b651-e6ef-4c97-9c60-a5f086cad6dd",
   "metadata": {},
   "outputs": [],
   "source": [
    "# Create dummy variables for year sold\n",
    "#df=pd.get_dummies(df, columns = ['YrSold'], prefix='YrSold', prefix_sep='_')"
   ]
  },
  {
   "cell_type": "code",
   "execution_count": 94,
   "id": "6b7afc33-a34c-4455-bc0a-e94011374441",
   "metadata": {},
   "outputs": [],
   "source": [
    "#### KitchenQual <a class=\"anchor\" id=\"kitchenqual\"></a>"
   ]
  },
  {
   "cell_type": "code",
   "execution_count": 95,
   "id": "97de72be-878c-4ee2-806a-8d97673343aa",
   "metadata": {},
   "outputs": [
    {
     "data": {
      "text/plain": [
       "TA    727\n",
       "Gd    586\n",
       "Ex    100\n",
       "Fa     37\n",
       "Name: KitchenQual, dtype: int64"
      ]
     },
     "execution_count": 95,
     "metadata": {},
     "output_type": "execute_result"
    }
   ],
   "source": [
    "df['KitchenQual'].value_counts().head(5)"
   ]
  },
  {
   "cell_type": "code",
   "execution_count": 96,
   "id": "ee6e18e5-2e09-4578-b346-98017aa6197d",
   "metadata": {},
   "outputs": [],
   "source": [
    "# label kitchen qual\n",
    "cond_kchn = [df['KitchenQual']=='Ex',df['KitchenQual']=='Gd',df['KitchenQual']=='TA',df['KitchenQual']=='Fa']\n",
    "val_kchn = [4,3,2,1]\n",
    "df['KitchenQual_num']=np.select(cond_kchn, val_kchn, default=0)"
   ]
  },
  {
   "cell_type": "code",
   "execution_count": 97,
   "id": "5e5bf157-a8ab-4656-b8e8-01834ae2e58d",
   "metadata": {},
   "outputs": [],
   "source": [
    "# dummies KitchenQual\n",
    "#print(len(df.columns))\n",
    "df=pd.get_dummies(df, columns = ['KitchenQual'], prefix='KitchenQual', prefix_sep='_')\n",
    "#print(len(df.columns))"
   ]
  },
  {
   "cell_type": "code",
   "execution_count": 98,
   "id": "f306233c-43b3-4410-95de-07c17184c5b0",
   "metadata": {},
   "outputs": [],
   "source": [
    "#### BsmtQual <a class=\"anchor\" id=\"bsmtqual\"></a>"
   ]
  },
  {
   "cell_type": "code",
   "execution_count": 99,
   "id": "fdc8ace2-f319-4db6-a0b3-c28654fa325f",
   "metadata": {},
   "outputs": [
    {
     "data": {
      "text/plain": [
       "TA    639\n",
       "Gd    618\n",
       "Ex    121\n",
       "Fa     35\n",
       "Name: BsmtQual, dtype: int64"
      ]
     },
     "execution_count": 99,
     "metadata": {},
     "output_type": "execute_result"
    }
   ],
   "source": [
    "df['BsmtQual'].value_counts().head(5)"
   ]
  },
  {
   "cell_type": "code",
   "execution_count": 100,
   "id": "f0960136-ccb7-4232-966d-0cc8f06c3e76",
   "metadata": {},
   "outputs": [],
   "source": [
    "# label BsmtQual\n",
    "cond_bsmt = [df['BsmtQual']=='Ex',df['BsmtQual']=='Gd',df['BsmtQual']=='TA',df['BsmtQual']=='Fa']\n",
    "val_bsmt = [4,3,2,1]\n",
    "df['BsmtQual_num']=np.select(cond_bsmt, val_bsmt, default=0)"
   ]
  },
  {
   "cell_type": "code",
   "execution_count": 101,
   "id": "dd0cafda-1c4c-45be-ae58-7356a6578007",
   "metadata": {},
   "outputs": [],
   "source": [
    "# dummies BsmtQual\n",
    "df=pd.get_dummies(df, columns = ['BsmtQual'], prefix='BsmtQual', prefix_sep='_')"
   ]
  },
  {
   "cell_type": "code",
   "execution_count": 102,
   "id": "7309ca12-8921-4e61-8d1f-df2db10603d4",
   "metadata": {},
   "outputs": [],
   "source": [
    "#### ExterQual <a class=\"anchor\" id=\"exterqual\"></a>"
   ]
  },
  {
   "cell_type": "code",
   "execution_count": 103,
   "id": "b0d72fed-a186-4b57-a27c-2f587ffd5340",
   "metadata": {},
   "outputs": [
    {
     "data": {
      "text/plain": [
       "TA    899\n",
       "Gd    488\n",
       "Ex     52\n",
       "Fa     11\n",
       "Name: ExterQual, dtype: int64"
      ]
     },
     "execution_count": 103,
     "metadata": {},
     "output_type": "execute_result"
    }
   ],
   "source": [
    "df['ExterQual'].value_counts().head(5)"
   ]
  },
  {
   "cell_type": "code",
   "execution_count": 104,
   "id": "fb869c6a-87a0-4b72-bc2e-ed9850a81324",
   "metadata": {},
   "outputs": [],
   "source": [
    "cond_exter = [df['ExterQual']=='Ex',df['ExterQual']=='Gd',df['ExterQual']=='TA',df['ExterQual']=='Fa']\n",
    "val_exter = [4,3,2,1]\n",
    "df['ExterQual_num']=np.select(cond_exter,val_exter,default=0)"
   ]
  },
  {
   "cell_type": "code",
   "execution_count": 105,
   "id": "666599e1-4d18-4f79-b737-fd57d09eb616",
   "metadata": {},
   "outputs": [],
   "source": [
    "# Create dummy variables for ExterQual\n",
    "df=pd.get_dummies(df, columns = ['ExterQual'], prefix='ExterQual', prefix_sep='_')"
   ]
  },
  {
   "cell_type": "code",
   "execution_count": 106,
   "id": "64425b7e-0efb-4b74-8d0a-67aef7c88bef",
   "metadata": {},
   "outputs": [],
   "source": [
    "#### ExterCond <a class=\"anchor\" id=\"extercond\"></a>"
   ]
  },
  {
   "cell_type": "code",
   "execution_count": 107,
   "id": "a8a01c03-cc57-4123-8b13-e613855faf13",
   "metadata": {},
   "outputs": [
    {
     "data": {
      "text/plain": [
       "TA    1275\n",
       "Gd     145\n",
       "Fa      26\n",
       "Ex       3\n",
       "Po       1\n",
       "Name: ExterCond, dtype: int64"
      ]
     },
     "execution_count": 107,
     "metadata": {},
     "output_type": "execute_result"
    }
   ],
   "source": [
    "df['ExterCond'].value_counts().head(5)"
   ]
  },
  {
   "cell_type": "code",
   "execution_count": 108,
   "id": "3e64ac1b-4076-4b9f-95b3-f53c9d406e30",
   "metadata": {},
   "outputs": [],
   "source": [
    "cond_exterCond = [df['ExterCond']=='Ex',df['ExterCond']=='Gd',df['ExterCond']=='TA',df['ExterCond']=='Fa',\n",
    "                  df['ExterCond']=='Po']\n",
    "val_exterCond = [5,4,3,2,1]\n",
    "df['ExterCond_num']=np.select(cond_exterCond,val_exterCond,default=0)"
   ]
  },
  {
   "cell_type": "code",
   "execution_count": 109,
   "id": "f1a84963-cf78-48a1-9932-6197c26955da",
   "metadata": {},
   "outputs": [],
   "source": [
    "# Create dummy variables for ExterCond\n",
    "df=pd.get_dummies(df, columns = ['ExterCond'], prefix='ExterCond', prefix_sep='_')"
   ]
  },
  {
   "cell_type": "code",
   "execution_count": 110,
   "id": "a54aad67-bd48-434b-a4f8-b669a9c7c66e",
   "metadata": {},
   "outputs": [],
   "source": [
    "#### CentralAir <a class=\"anchor\" id=\"centralair\"></a>"
   ]
  },
  {
   "cell_type": "code",
   "execution_count": 111,
   "id": "582e5f57-923e-48ef-9b28-b44c25c3b3ae",
   "metadata": {},
   "outputs": [
    {
     "data": {
      "text/plain": [
       "Y    1361\n",
       "N      89\n",
       "Name: CentralAir, dtype: int64"
      ]
     },
     "execution_count": 111,
     "metadata": {},
     "output_type": "execute_result"
    }
   ],
   "source": [
    "df['CentralAir'].value_counts()"
   ]
  },
  {
   "cell_type": "code",
   "execution_count": 112,
   "id": "29c37cd2-f4e6-4585-a891-86fae7b5aee1",
   "metadata": {},
   "outputs": [],
   "source": [
    "df['CentralAir_num']=np.where(df['CentralAir']=='Y',1,0)"
   ]
  },
  {
   "cell_type": "code",
   "execution_count": 113,
   "id": "6407b346-5a6c-4285-9100-7ea20e18eac1",
   "metadata": {},
   "outputs": [],
   "source": [
    "#### SaleCondition <a class=\"anchor\" id=\"salecondition\"></a>"
   ]
  },
  {
   "cell_type": "code",
   "execution_count": 114,
   "id": "3e074cff-06c1-4eb1-9739-03d8104249fa",
   "metadata": {},
   "outputs": [
    {
     "data": {
      "text/plain": [
       "Normal     1194\n",
       "Partial     125\n",
       "Abnorml      96\n",
       "Family       20\n",
       "Alloca       11\n",
       "AdjLand       4\n",
       "Name: SaleCondition, dtype: int64"
      ]
     },
     "execution_count": 114,
     "metadata": {},
     "output_type": "execute_result"
    }
   ],
   "source": [
    "df['SaleCondition'].value_counts()"
   ]
  },
  {
   "cell_type": "code",
   "execution_count": 115,
   "id": "8da4c283-dcf2-44cd-9722-16424e1908e7",
   "metadata": {},
   "outputs": [],
   "source": [
    "# remove abnormal and inter-family sale condition\n",
    "#print(len(df.columns))\n",
    "#print(df.shape)\n",
    "df=df[(df['SaleCondition'] != 'Abnorml')]    #drop 10 rows\n",
    "#print(df.shape)\n",
    "df=df[(df['SaleCondition'] != 'Family')] \n",
    "#print(df.shape)"
   ]
  },
  {
   "cell_type": "code",
   "execution_count": 116,
   "id": "71fa4bdd-6f95-4852-8f23-81c2ddd54690",
   "metadata": {},
   "outputs": [
    {
     "data": {
      "text/plain": [
       "Normal     1194\n",
       "Partial     125\n",
       "Alloca       11\n",
       "AdjLand       4\n",
       "Name: SaleCondition, dtype: int64"
      ]
     },
     "execution_count": 116,
     "metadata": {},
     "output_type": "execute_result"
    }
   ],
   "source": [
    "df['SaleCondition'].value_counts()"
   ]
  },
  {
   "cell_type": "code",
   "execution_count": 117,
   "id": "734db782-8e17-44a3-bd31-41d44efd0bc7",
   "metadata": {},
   "outputs": [],
   "source": [
    "df['SaleCondition_num'] = np.where(df['SaleCondition']=='Normal',1,0)"
   ]
  },
  {
   "cell_type": "code",
   "execution_count": 118,
   "id": "ac1f156a-0d72-4b31-92a9-4044e7ee0a0e",
   "metadata": {},
   "outputs": [
    {
     "data": {
      "text/plain": [
       "1    1194\n",
       "0     140\n",
       "Name: SaleCondition_num, dtype: int64"
      ]
     },
     "execution_count": 118,
     "metadata": {},
     "output_type": "execute_result"
    }
   ],
   "source": [
    "df['SaleCondition_num'].value_counts()"
   ]
  },
  {
   "cell_type": "code",
   "execution_count": 119,
   "id": "71e288b7-6b65-4929-a550-7c1782cc6361",
   "metadata": {},
   "outputs": [],
   "source": [
    "#### BldgType <a class=\"anchor\" id=\"bldgtype\"></a>"
   ]
  },
  {
   "cell_type": "code",
   "execution_count": 120,
   "id": "through-airplane",
   "metadata": {},
   "outputs": [],
   "source": [
    "# recoding building type\n",
    "#print(df['BldgType'].value_counts())\n",
    "df['SingleFam']=np.where(df['BldgType']=='1Fam',1,0)\n",
    "#print(df['SingleFam'].value_counts())"
   ]
  },
  {
   "cell_type": "code",
   "execution_count": 121,
   "id": "079488a5-7da8-4dc2-8f83-ae9aec81503e",
   "metadata": {},
   "outputs": [],
   "source": [
    "#### TotalSF <a class=\"anchor\" id=\"totalsf\"></a>"
   ]
  },
  {
   "cell_type": "code",
   "execution_count": 122,
   "id": "expired-kazakhstan",
   "metadata": {},
   "outputs": [
    {
     "data": {
      "text/plain": [
       "count     1334.000000\n",
       "mean      2578.768366\n",
       "std        821.692898\n",
       "min        334.000000\n",
       "25%       2020.500000\n",
       "50%       2491.500000\n",
       "75%       3026.250000\n",
       "max      11752.000000\n",
       "Name: TotalSF, dtype: float64"
      ]
     },
     "execution_count": 122,
     "metadata": {},
     "output_type": "execute_result"
    }
   ],
   "source": [
    "# recoding total square feet\n",
    "df['TotalSF'] = df['TotalBsmtSF']+df['1stFlrSF']+df['2ndFlrSF']\n",
    "df['TotalSF'].describe()"
   ]
  },
  {
   "cell_type": "code",
   "execution_count": 123,
   "id": "employed-teacher",
   "metadata": {},
   "outputs": [
    {
     "data": {
      "text/plain": [
       "count    1334.000000\n",
       "mean        2.863568\n",
       "std         0.799085\n",
       "min         0.000000\n",
       "25%         2.000000\n",
       "50%         3.000000\n",
       "75%         3.000000\n",
       "max         6.000000\n",
       "Name: BedroomAbvGr, dtype: float64"
      ]
     },
     "execution_count": 123,
     "metadata": {},
     "output_type": "execute_result"
    }
   ],
   "source": [
    "# bedrooms\n",
    "df['BedroomAbvGr'].describe()"
   ]
  },
  {
   "cell_type": "code",
   "execution_count": 124,
   "id": "4d6d37ff-ae8d-410e-a38c-ebd1b669b39a",
   "metadata": {},
   "outputs": [],
   "source": [
    "#### Bathrooms <a class=\"anchor\" id=\"bathrooms\"></a>"
   ]
  },
  {
   "cell_type": "code",
   "execution_count": 125,
   "id": "acute-extra",
   "metadata": {},
   "outputs": [
    {
     "data": {
      "text/plain": [
       "count    1334.000000\n",
       "mean        1.778111\n",
       "std         0.631934\n",
       "min         0.000000\n",
       "25%         1.000000\n",
       "50%         2.000000\n",
       "75%         2.500000\n",
       "max         3.500000\n",
       "Name: Bathrooms, dtype: float64"
      ]
     },
     "execution_count": 125,
     "metadata": {},
     "output_type": "execute_result"
    }
   ],
   "source": [
    "# recoding bathrooms\n",
    "df['Bathrooms']=df['FullBath']+(.5*df['HalfBath'])\n",
    "df['Bathrooms'].describe()"
   ]
  },
  {
   "cell_type": "code",
   "execution_count": 126,
   "id": "a2742ae0-a775-4735-af1f-c770733639ea",
   "metadata": {},
   "outputs": [
    {
     "data": {
      "text/plain": [
       "5     352\n",
       "6     342\n",
       "7     303\n",
       "8     159\n",
       "4     100\n",
       "9      42\n",
       "10     17\n",
       "3      15\n",
       "1       2\n",
       "2       2\n",
       "Name: OverallQual, dtype: int64"
      ]
     },
     "execution_count": 126,
     "metadata": {},
     "output_type": "execute_result"
    }
   ],
   "source": [
    "df['OverallQual'].value_counts()"
   ]
  },
  {
   "cell_type": "code",
   "execution_count": 127,
   "id": "c106859b-1cb5-4b8a-9892-5536c4c845a3",
   "metadata": {},
   "outputs": [
    {
     "data": {
      "text/plain": [
       "5    756\n",
       "6    230\n",
       "7    184\n",
       "8     71\n",
       "4     48\n",
       "9     21\n",
       "3     20\n",
       "2      3\n",
       "1      1\n",
       "Name: OverallCond, dtype: int64"
      ]
     },
     "execution_count": 127,
     "metadata": {},
     "output_type": "execute_result"
    }
   ],
   "source": [
    "df['OverallCond'].value_counts()"
   ]
  },
  {
   "cell_type": "markdown",
   "id": "926b866c-a648-48af-9bc1-cc1ce2fa5434",
   "metadata": {},
   "source": [
    "### Target <a class=\"anchor\" id=\"target\"></a>"
   ]
  },
  {
   "cell_type": "code",
   "execution_count": 128,
   "id": "2ae6c737-4f9e-4d3d-bea1-88871c62dca3",
   "metadata": {},
   "outputs": [
    {
     "name": "stdout",
     "output_type": "stream",
     "text": [
      "count      1334.000000\n",
      "mean     184358.968516\n",
      "std       78771.015650\n",
      "min       39300.000000\n",
      "25%      132500.000000\n",
      "50%      166500.000000\n",
      "75%      216375.000000\n",
      "max      755000.000000\n",
      "Name: SalePrice, dtype: float64\n"
     ]
    }
   ],
   "source": [
    "# target\n",
    "print(df['SalePrice'].describe())"
   ]
  },
  {
   "cell_type": "code",
   "execution_count": 129,
   "id": "f4d529a2-fb9b-41e3-83b4-2100dad7b320",
   "metadata": {},
   "outputs": [],
   "source": [
    "#### Target SalePrice - Remove outliers <a class=\"anchor\" id=\"saleprice_remove outliers\"></a>"
   ]
  },
  {
   "cell_type": "code",
   "execution_count": 130,
   "id": "a099e17a-2c18-419e-8910-7571ad6924cd",
   "metadata": {},
   "outputs": [
    {
     "name": "stdout",
     "output_type": "stream",
     "text": [
      "1334\n",
      "420672.0154647251\n",
      "-51954.07843324082\n",
      "1313\n"
     ]
    }
   ],
   "source": [
    "# remove extreme outliers\n",
    "print(df.shape[0])\n",
    "cutpoint_high = df['SalePrice'].mean()+3* df['SalePrice'].std()\n",
    "print(cutpoint_high)\n",
    "cutpoint_low = df['SalePrice'].mean()-3* df['SalePrice'].std()\n",
    "print(cutpoint_low)\n",
    "df=df[(df['SalePrice']<=cutpoint_high) & (df['SalePrice']>=cutpoint_low)].copy()\n",
    "print(df.shape[0])"
   ]
  },
  {
   "cell_type": "code",
   "execution_count": 131,
   "id": "2e3cc073-9b87-40d0-bc57-836e8fb5cd10",
   "metadata": {},
   "outputs": [],
   "source": [
    "def plot_feature(df, feature_name, xlabel_text, shape):\n",
    "    (mu, sigma) = stats.norm.fit(df)    \n",
    "    plt.figure(figsize=shape)\n",
    "    sns.distplot(df, kde=True, hist=True, fit=stats.norm, color=\"tomato\")\n",
    "    #sns.histplot(df, bins=30)\n",
    "    plt.title(feature_name + ' Distribution vs Normal Distribution', fontsize=14)\n",
    "    plt.xlabel(xlabel_text,    fontsize=12)\n",
    "    plt.ylabel(\"Frequency %\",  fontsize=12)\n",
    "    plt.legend(['Normal Dist. ($\\mu=$ {:.2f} and $\\sigma=$ {:.2f})'.format(mu, sigma)], loc='upper center')\n",
    "    plt.show()"
   ]
  },
  {
   "cell_type": "code",
   "execution_count": 132,
   "id": "924bca5b-c790-4521-aa70-e5810633a30f",
   "metadata": {},
   "outputs": [
    {
     "name": "stderr",
     "output_type": "stream",
     "text": [
      "/opt/conda/lib/python3.8/site-packages/seaborn/distributions.py:2619: FutureWarning: `distplot` is a deprecated function and will be removed in a future version. Please adapt your code to use either `displot` (a figure-level function with similar flexibility) or `histplot` (an axes-level function for histograms).\n",
      "  warnings.warn(msg, FutureWarning)\n"
     ]
    },
    {
     "data": {
      "image/png": "[encoded data removed]",
      "text/plain": [
       "<Figure size 1728x432 with 1 Axes>"
      ]
     },
     "metadata": {
      "needs_background": "light"
     },
     "output_type": "display_data"
    }
   ],
   "source": [
    "feature_name = 'SalePrice'\n",
    "plot_feature(df[feature_name], feature_name, feature_name, (24,6))"
   ]
  },
  {
   "cell_type": "code",
   "execution_count": 133,
   "id": "5f254830-7d8d-4520-b261-9ca543d5b300",
   "metadata": {},
   "outputs": [],
   "source": [
    "# log Saleprice\n",
    "df[\"LogSalePrice\"] = df['SalePrice'].apply(np.log)"
   ]
  },
  {
   "cell_type": "code",
   "execution_count": 134,
   "id": "a0a8c403-44fc-4f92-9e7e-705da3944f4a",
   "metadata": {},
   "outputs": [
    {
     "name": "stderr",
     "output_type": "stream",
     "text": [
      "/opt/conda/lib/python3.8/site-packages/seaborn/distributions.py:2619: FutureWarning: `distplot` is a deprecated function and will be removed in a future version. Please adapt your code to use either `displot` (a figure-level function with similar flexibility) or `histplot` (an axes-level function for histograms).\n",
      "  warnings.warn(msg, FutureWarning)\n"
     ]
    },
    {
     "data": {
      "image/png": "[encoded data removed]",
      "text/plain": [
       "<Figure size 1728x432 with 1 Axes>"
      ]
     },
     "metadata": {
      "needs_background": "light"
     },
     "output_type": "display_data"
    }
   ],
   "source": [
    "feature_name = 'LogSalePrice'\n",
    "plot_feature(df[feature_name], feature_name, feature_name, (24,6))"
   ]
  },
  {
   "cell_type": "markdown",
   "id": "ab725014-ed9f-4377-8073-147c2c2229d2",
   "metadata": {},
   "source": [
    "#### Correlation Matrix<a class=\"anchor\" id=\"correlation\"></a>"
   ]
  },
  {
   "cell_type": "code",
   "execution_count": 135,
   "id": "ed3198a6-0bbb-4877-8b0c-e1606e7c2e7e",
   "metadata": {},
   "outputs": [],
   "source": [
    "df_model=df[['SalePrice','LogSalePrice','YearBuilt','YearRemodAdd','OverallQual', 'OverallCond', 'MSZoning_num','GarageAttached',\n",
    "             'HouseStory','YrSold','TotalSF','SingleFam','SaleCondition_num','CentralAir_num',\n",
    "             'KitchenQual_num','KitchenQual_Ex','KitchenQual_Fa','KitchenQual_Gd','KitchenQual_TA',\n",
    "            'BsmtQual_num','BsmtQual_Ex','BsmtQual_Fa','BsmtQual_Gd','BsmtQual_TA',\n",
    "            'ExterQual_num','ExterQual_Ex','ExterQual_Fa','ExterQual_Gd','ExterQual_TA',\n",
    "            'ExterCond_num','ExterCond_Ex','ExterCond_Fa','ExterCond_Gd','ExterCond_TA','ExterCond_Po',\n",
    "            'BedroomAbvGr','Bathrooms']]"
   ]
  },
  {
   "cell_type": "code",
   "execution_count": 136,
   "id": "67aa7d3f-afac-4ddf-8177-b10d63762c50",
   "metadata": {},
   "outputs": [],
   "source": [
    "corrs = df_model.corr()"
   ]
  },
  {
   "cell_type": "code",
   "execution_count": 137,
   "id": "f4e3843a-f469-4878-94ea-330e065f9b7a",
   "metadata": {},
   "outputs": [
    {
     "data": {
      "image/png": "[encoded data removed]",
      "text/plain": [
       "<Figure size 1440x1008 with 2 Axes>"
      ]
     },
     "metadata": {
      "needs_background": "light"
     },
     "output_type": "display_data"
    }
   ],
   "source": [
    "# Display all this as a heatmap\n",
    "plt.figure(figsize=(20,14))\n",
    "sns.heatmap(corrs);"
   ]
  },
  {
   "cell_type": "code",
   "execution_count": 138,
   "id": "1c8e9172-0318-4dbf-a247-392b8a4ea314",
   "metadata": {},
   "outputs": [
    {
     "data": {
      "text/plain": [
       "SalePrice            1.000000\n",
       "LogSalePrice         0.970093\n",
       "OverallQual          0.798509\n",
       "TotalSF              0.757994\n",
       "ExterQual_num        0.670332\n",
       "KitchenQual_num      0.670318\n",
       "BsmtQual_num         0.623323\n",
       "Bathrooms            0.584163\n",
       "YearBuilt            0.549047\n",
       "YearRemodAdd         0.522181\n",
       "ExterQual_Gd         0.520546\n",
       "GarageAttached       0.496400\n",
       "BsmtQual_Ex          0.478370\n",
       "KitchenQual_Ex       0.445586\n",
       "KitchenQual_Gd       0.396814\n",
       "ExterQual_Ex         0.345465\n",
       "BsmtQual_Gd          0.309672\n",
       "CentralAir_num       0.266672\n",
       "BedroomAbvGr         0.177372\n",
       "MSZoning_num         0.151884\n",
       "SingleFam            0.148466\n",
       "ExterCond_TA         0.125618\n",
       "ExterCond_Ex         0.015644\n",
       "ExterCond_num        0.003849\n",
       "YrSold              -0.017460\n",
       "ExterCond_Po        -0.042071\n",
       "HouseStory          -0.049426\n",
       "ExterCond_Gd        -0.071859\n",
       "OverallCond         -0.098340\n",
       "ExterQual_Fa        -0.127680\n",
       "BsmtQual_Fa         -0.138542\n",
       "ExterCond_Fa        -0.141793\n",
       "KitchenQual_Fa      -0.184638\n",
       "SaleCondition_num   -0.282592\n",
       "BsmtQual_TA         -0.465198\n",
       "KitchenQual_TA      -0.541061\n",
       "ExterQual_TA        -0.605912\n",
       "Name: SalePrice, dtype: float64"
      ]
     },
     "execution_count": 138,
     "metadata": {},
     "output_type": "execute_result"
    }
   ],
   "source": [
    "corrs['SalePrice'].sort_values(ascending=False)"
   ]
  },
  {
   "cell_type": "code",
   "execution_count": 139,
   "id": "28341d81-7836-4f51-835b-92e2457de1df",
   "metadata": {},
   "outputs": [
    {
     "data": {
      "text/plain": [
       "LogSalePrice         1.000000\n",
       "SalePrice            0.970093\n",
       "OverallQual          0.810900\n",
       "TotalSF              0.763533\n",
       "KitchenQual_num      0.669907\n",
       "ExterQual_num        0.657680\n",
       "BsmtQual_num         0.638119\n",
       "Bathrooms            0.618134\n",
       "YearBuilt            0.588127\n",
       "YearRemodAdd         0.552593\n",
       "GarageAttached       0.548516\n",
       "ExterQual_Gd         0.538775\n",
       "KitchenQual_Gd       0.442292\n",
       "BsmtQual_Ex          0.406729\n",
       "KitchenQual_Ex       0.377729\n",
       "BsmtQual_Gd          0.371703\n",
       "CentralAir_num       0.345309\n",
       "ExterQual_Ex         0.282875\n",
       "BedroomAbvGr         0.214860\n",
       "MSZoning_num         0.172844\n",
       "SingleFam            0.148129\n",
       "ExterCond_TA         0.137881\n",
       "ExterCond_num        0.030927\n",
       "ExterCond_Ex         0.011751\n",
       "YrSold              -0.024956\n",
       "ExterCond_Po        -0.059343\n",
       "ExterCond_Gd        -0.062539\n",
       "OverallCond         -0.063563\n",
       "HouseStory          -0.070136\n",
       "BsmtQual_Fa         -0.163858\n",
       "ExterCond_Fa        -0.187411\n",
       "ExterQual_Fa        -0.187791\n",
       "KitchenQual_Fa      -0.241790\n",
       "SaleCondition_num   -0.256243\n",
       "BsmtQual_TA         -0.466282\n",
       "KitchenQual_TA      -0.535590\n",
       "ExterQual_TA        -0.591451\n",
       "Name: LogSalePrice, dtype: float64"
      ]
     },
     "execution_count": 139,
     "metadata": {},
     "output_type": "execute_result"
    }
   ],
   "source": [
    "corrs['LogSalePrice'].sort_values(ascending=False)"
   ]
  },
  {
   "cell_type": "markdown",
   "id": "50fc0f9d-3951-45a1-8db8-70ff7616aa7f",
   "metadata": {},
   "source": [
    "### Feature Sets <a class=\"anchor\" id=\"feature_sets\"></a>"
   ]
  },
  {
   "cell_type": "code",
   "execution_count": 140,
   "id": "floppy-progress",
   "metadata": {},
   "outputs": [
    {
     "data": {
      "text/plain": [
       "OverallQual        0\n",
       "TotalSF            0\n",
       "KitchenQual_num    0\n",
       "ExterQual_num      0\n",
       "BsmtQual_num       0\n",
       "Bathrooms          0\n",
       "YearBuilt          0\n",
       "YearRemodAdd       0\n",
       "GarageAttached     0\n",
       "CentralAir_num     0\n",
       "BedroomAbvGr       0\n",
       "MSZoning_num       0\n",
       "SingleFam          0\n",
       "HouseStory         0\n",
       "YrSold             0\n",
       "dtype: int64"
      ]
     },
     "execution_count": 140,
     "metadata": {},
     "output_type": "execute_result"
    }
   ],
   "source": [
    "# confirm no missing data\n",
    "df_X = df[['OverallQual','TotalSF','KitchenQual_num','ExterQual_num','BsmtQual_num','Bathrooms','YearBuilt',\n",
    "           'YearRemodAdd','GarageAttached','CentralAir_num',\n",
    "          'BedroomAbvGr','MSZoning_num','SingleFam','HouseStory','YrSold',]]\n",
    "df_X.isnull().sum()"
   ]
  },
  {
   "cell_type": "code",
   "execution_count": 141,
   "id": "loving-median",
   "metadata": {},
   "outputs": [
    {
     "data": {
      "text/plain": [
       "OverallQual          int64\n",
       "TotalSF              int64\n",
       "KitchenQual_num      int64\n",
       "ExterQual_num        int64\n",
       "BsmtQual_num         int64\n",
       "Bathrooms          float64\n",
       "YearBuilt            int64\n",
       "YearRemodAdd         int64\n",
       "GarageAttached       int64\n",
       "CentralAir_num       int64\n",
       "BedroomAbvGr         int64\n",
       "MSZoning_num         int64\n",
       "SingleFam            int64\n",
       "HouseStory           int64\n",
       "YrSold               int64\n",
       "dtype: object"
      ]
     },
     "execution_count": 141,
     "metadata": {},
     "output_type": "execute_result"
    }
   ],
   "source": [
    "# confirm all numerical\n",
    "df_X.dtypes"
   ]
  },
  {
   "cell_type": "markdown",
   "id": "demonstrated-authentication",
   "metadata": {},
   "source": [
    "### Model - Linear Regression - standardised vs non-standardized <a class=\"anchor\" id=\"model_lr\"></a>"
   ]
  },
  {
   "cell_type": "code",
   "execution_count": 142,
   "id": "designing-inventory",
   "metadata": {},
   "outputs": [
    {
     "name": "stdout",
     "output_type": "stream",
     "text": [
      "(1313,) (1313, 15)\n"
     ]
    }
   ],
   "source": [
    "# declare features and target\n",
    "y = df['SalePrice']\n",
    "X = df_X\n",
    "print(y.shape, X.shape)"
   ]
  },
  {
   "cell_type": "code",
   "execution_count": 143,
   "id": "resident-poetry",
   "metadata": {},
   "outputs": [],
   "source": [
    "# train-test split\n",
    "X_train, X_test, y_train, y_test = train_test_split(X, y, test_size = .25, random_state=12)"
   ]
  },
  {
   "cell_type": "markdown",
   "id": "ea042fa3-f2ac-49a7-96dc-7902a994a33a",
   "metadata": {},
   "source": [
    "#### Standardize <a class=\"anchor\" id=\"standardize\"></a>"
   ]
  },
  {
   "cell_type": "code",
   "execution_count": 144,
   "id": "79c5b3f3-4baf-429b-bceb-bc3dce1dd371",
   "metadata": {},
   "outputs": [],
   "source": [
    "# standardization of dependent variables - fit and transform training data\n",
    "scaled_X_train = scale.fit_transform(X_train) "
   ]
  },
  {
   "cell_type": "code",
   "execution_count": 145,
   "id": "694dd8fa-b7de-4384-8827-6cd61f313a7b",
   "metadata": {},
   "outputs": [],
   "source": [
    "# standardization of dependent variables - fit and transform training data\n",
    "Scaled_X_test = scale.transform(X_test)"
   ]
  },
  {
   "cell_type": "code",
   "execution_count": 146,
   "id": "lesbian-shelf",
   "metadata": {},
   "outputs": [
    {
     "data": {
      "text/plain": [
       "LinearRegression()"
      ]
     },
     "execution_count": 146,
     "metadata": {},
     "output_type": "execute_result"
    }
   ],
   "source": [
    "# Fit the model to the training dataset\n",
    "mymodel = LinearRegression()\n",
    "#mymodel.fit(scaled_X_train, y_train)\n",
    "mymodel.fit(X_train, y_train)"
   ]
  },
  {
   "cell_type": "code",
   "execution_count": 147,
   "id": "a38610d2-e9cd-4eb0-bf60-573062b80365",
   "metadata": {},
   "outputs": [
    {
     "data": {
      "text/plain": [
       "LinearRegression()"
      ]
     },
     "execution_count": 147,
     "metadata": {},
     "output_type": "execute_result"
    }
   ],
   "source": [
    "# Fit the model to the training dataset\n",
    "mymodel2 = LinearRegression()\n",
    "mymodel2.fit(scaled_X_train, y_train)"
   ]
  },
  {
   "cell_type": "code",
   "execution_count": 148,
   "id": "comparable-death",
   "metadata": {},
   "outputs": [
    {
     "data": {
      "text/plain": [
       "array([16589.02107638,    25.48332662, 13874.04015932,  8592.63045369,\n",
       "        5643.47754404,  7250.66780929,    92.78476754,    27.11219232,\n",
       "        6370.94513956,  -341.40234121,   473.50343289,  5586.61670491,\n",
       "       15482.05196612,  2454.4814095 ,   185.78461862])"
      ]
     },
     "execution_count": 148,
     "metadata": {},
     "output_type": "execute_result"
    }
   ],
   "source": [
    "# coefficients and intercept\n",
    "mymodel.intercept_\n",
    "mymodel.coef_"
   ]
  },
  {
   "cell_type": "code",
   "execution_count": 149,
   "id": "111ad761-94b6-48fa-9b8f-20e8c77647c3",
   "metadata": {},
   "outputs": [
    {
     "data": {
      "text/plain": [
       "array([22522.37122564, 20391.76269234,  9020.67011588,  4807.63938773,\n",
       "        4507.15176715,  4487.18223333,  2762.99180754,   559.10402556,\n",
       "        2969.68915057,   -82.32602841,   366.76610086,  3185.60938122,\n",
       "        5595.21629203,  1227.23056491,   244.16333679])"
      ]
     },
     "execution_count": 149,
     "metadata": {},
     "output_type": "execute_result"
    }
   ],
   "source": [
    "# coefficients and intercept\n",
    "mymodel2.intercept_\n",
    "mymodel2.coef_"
   ]
  },
  {
   "cell_type": "raw",
   "id": "51f34e49-3f99-4b92-b890-90974442c4df",
   "metadata": {},
   "source": [
    "pd.DataFrame(mymodel.coef_ , X.columns)"
   ]
  },
  {
   "cell_type": "code",
   "execution_count": 150,
   "id": "6e66363b-7b28-44f4-bbf2-7a27a7b2e453",
   "metadata": {},
   "outputs": [
    {
     "data": {
      "text/html": [
       "<div>\n",
       "<style scoped>\n",
       "    .dataframe tbody tr th:only-of-type {\n",
       "        vertical-align: middle;\n",
       "    }\n",
       "\n",
       "    .dataframe tbody tr th {\n",
       "        vertical-align: top;\n",
       "    }\n",
       "\n",
       "    .dataframe thead th {\n",
       "        text-align: right;\n",
       "    }\n",
       "</style>\n",
       "<table border=\"1\" class=\"dataframe\">\n",
       "  <thead>\n",
       "    <tr style=\"text-align: right;\">\n",
       "      <th></th>\n",
       "      <th>0</th>\n",
       "    </tr>\n",
       "  </thead>\n",
       "  <tbody>\n",
       "    <tr>\n",
       "      <th>OverallQual</th>\n",
       "      <td>16589.021076</td>\n",
       "    </tr>\n",
       "    <tr>\n",
       "      <th>TotalSF</th>\n",
       "      <td>25.483327</td>\n",
       "    </tr>\n",
       "    <tr>\n",
       "      <th>KitchenQual_num</th>\n",
       "      <td>13874.040159</td>\n",
       "    </tr>\n",
       "    <tr>\n",
       "      <th>ExterQual_num</th>\n",
       "      <td>8592.630454</td>\n",
       "    </tr>\n",
       "    <tr>\n",
       "      <th>BsmtQual_num</th>\n",
       "      <td>5643.477544</td>\n",
       "    </tr>\n",
       "    <tr>\n",
       "      <th>Bathrooms</th>\n",
       "      <td>7250.667809</td>\n",
       "    </tr>\n",
       "    <tr>\n",
       "      <th>YearBuilt</th>\n",
       "      <td>92.784768</td>\n",
       "    </tr>\n",
       "    <tr>\n",
       "      <th>YearRemodAdd</th>\n",
       "      <td>27.112192</td>\n",
       "    </tr>\n",
       "    <tr>\n",
       "      <th>GarageAttached</th>\n",
       "      <td>6370.945140</td>\n",
       "    </tr>\n",
       "    <tr>\n",
       "      <th>CentralAir_num</th>\n",
       "      <td>-341.402341</td>\n",
       "    </tr>\n",
       "    <tr>\n",
       "      <th>BedroomAbvGr</th>\n",
       "      <td>473.503433</td>\n",
       "    </tr>\n",
       "    <tr>\n",
       "      <th>MSZoning_num</th>\n",
       "      <td>5586.616705</td>\n",
       "    </tr>\n",
       "    <tr>\n",
       "      <th>SingleFam</th>\n",
       "      <td>15482.051966</td>\n",
       "    </tr>\n",
       "    <tr>\n",
       "      <th>HouseStory</th>\n",
       "      <td>2454.481410</td>\n",
       "    </tr>\n",
       "    <tr>\n",
       "      <th>YrSold</th>\n",
       "      <td>185.784619</td>\n",
       "    </tr>\n",
       "  </tbody>\n",
       "</table>\n",
       "</div>"
      ],
      "text/plain": [
       "                            0\n",
       "OverallQual      16589.021076\n",
       "TotalSF             25.483327\n",
       "KitchenQual_num  13874.040159\n",
       "ExterQual_num     8592.630454\n",
       "BsmtQual_num      5643.477544\n",
       "Bathrooms         7250.667809\n",
       "YearBuilt           92.784768\n",
       "YearRemodAdd        27.112192\n",
       "GarageAttached    6370.945140\n",
       "CentralAir_num    -341.402341\n",
       "BedroomAbvGr       473.503433\n",
       "MSZoning_num      5586.616705\n",
       "SingleFam        15482.051966\n",
       "HouseStory        2454.481410\n",
       "YrSold             185.784619"
      ]
     },
     "execution_count": 150,
     "metadata": {},
     "output_type": "execute_result"
    }
   ],
   "source": [
    "df_coefs = pd.DataFrame(mymodel.coef_ , X.columns)\n",
    "df_coefs"
   ]
  },
  {
   "cell_type": "code",
   "execution_count": 151,
   "id": "e0c05771-e038-45e2-a47e-e1fb81817c78",
   "metadata": {},
   "outputs": [
    {
     "data": {
      "text/html": [
       "<div>\n",
       "<style scoped>\n",
       "    .dataframe tbody tr th:only-of-type {\n",
       "        vertical-align: middle;\n",
       "    }\n",
       "\n",
       "    .dataframe tbody tr th {\n",
       "        vertical-align: top;\n",
       "    }\n",
       "\n",
       "    .dataframe thead th {\n",
       "        text-align: right;\n",
       "    }\n",
       "</style>\n",
       "<table border=\"1\" class=\"dataframe\">\n",
       "  <thead>\n",
       "    <tr style=\"text-align: right;\">\n",
       "      <th></th>\n",
       "      <th>0</th>\n",
       "    </tr>\n",
       "  </thead>\n",
       "  <tbody>\n",
       "    <tr>\n",
       "      <th>OverallQual</th>\n",
       "      <td>22522.371226</td>\n",
       "    </tr>\n",
       "    <tr>\n",
       "      <th>TotalSF</th>\n",
       "      <td>20391.762692</td>\n",
       "    </tr>\n",
       "    <tr>\n",
       "      <th>KitchenQual_num</th>\n",
       "      <td>9020.670116</td>\n",
       "    </tr>\n",
       "    <tr>\n",
       "      <th>ExterQual_num</th>\n",
       "      <td>4807.639388</td>\n",
       "    </tr>\n",
       "    <tr>\n",
       "      <th>BsmtQual_num</th>\n",
       "      <td>4507.151767</td>\n",
       "    </tr>\n",
       "    <tr>\n",
       "      <th>Bathrooms</th>\n",
       "      <td>4487.182233</td>\n",
       "    </tr>\n",
       "    <tr>\n",
       "      <th>YearBuilt</th>\n",
       "      <td>2762.991808</td>\n",
       "    </tr>\n",
       "    <tr>\n",
       "      <th>YearRemodAdd</th>\n",
       "      <td>559.104026</td>\n",
       "    </tr>\n",
       "    <tr>\n",
       "      <th>GarageAttached</th>\n",
       "      <td>2969.689151</td>\n",
       "    </tr>\n",
       "    <tr>\n",
       "      <th>CentralAir_num</th>\n",
       "      <td>-82.326028</td>\n",
       "    </tr>\n",
       "    <tr>\n",
       "      <th>BedroomAbvGr</th>\n",
       "      <td>366.766101</td>\n",
       "    </tr>\n",
       "    <tr>\n",
       "      <th>MSZoning_num</th>\n",
       "      <td>3185.609381</td>\n",
       "    </tr>\n",
       "    <tr>\n",
       "      <th>SingleFam</th>\n",
       "      <td>5595.216292</td>\n",
       "    </tr>\n",
       "    <tr>\n",
       "      <th>HouseStory</th>\n",
       "      <td>1227.230565</td>\n",
       "    </tr>\n",
       "    <tr>\n",
       "      <th>YrSold</th>\n",
       "      <td>244.163337</td>\n",
       "    </tr>\n",
       "  </tbody>\n",
       "</table>\n",
       "</div>"
      ],
      "text/plain": [
       "                            0\n",
       "OverallQual      22522.371226\n",
       "TotalSF          20391.762692\n",
       "KitchenQual_num   9020.670116\n",
       "ExterQual_num     4807.639388\n",
       "BsmtQual_num      4507.151767\n",
       "Bathrooms         4487.182233\n",
       "YearBuilt         2762.991808\n",
       "YearRemodAdd       559.104026\n",
       "GarageAttached    2969.689151\n",
       "CentralAir_num     -82.326028\n",
       "BedroomAbvGr       366.766101\n",
       "MSZoning_num      3185.609381\n",
       "SingleFam         5595.216292\n",
       "HouseStory        1227.230565\n",
       "YrSold             244.163337"
      ]
     },
     "execution_count": 151,
     "metadata": {},
     "output_type": "execute_result"
    }
   ],
   "source": [
    "df_coefs2 = pd.DataFrame(mymodel2.coef_ , X.columns)\n",
    "df_coefs2"
   ]
  },
  {
   "cell_type": "code",
   "execution_count": 152,
   "id": "labeled-retreat",
   "metadata": {},
   "outputs": [],
   "source": [
    "# # what is the equation for this model?\n",
    "# cols=list(X.columns)\n",
    "# coefs=list(mymodel.coef_)\n",
    "# xcoefs = [(coefs[i], cols[i]) for i in range(0, len(cols))]\n",
    "# equation = f'y = {round(mymodel.intercept_,4)} + {round(xcoefs[0][0],4)}*{xcoefs[0][1]} + {round(xcoefs[1][0],4)}*{xcoefs[1][1]} + {round(xcoefs[2][0],4)}*{xcoefs[2][1]} + {round(xcoefs[3][0],4)}*{xcoefs[3][1]}+ {round(xcoefs[4][0],4)}*{xcoefs[4][1]}+ {round(xcoefs[5][0],4)}*{xcoefs[5][1]} + {round(xcoefs[6][0],4)}*{xcoefs[6][1]} + {round(xcoefs[7][0],4)}*{xcoefs[7][1]} + {round(xcoefs[8][0],4)}*{xcoefs[8][1]} '\n",
    "# print(\"Regression Equation: \", equation)  "
   ]
  },
  {
   "cell_type": "code",
   "execution_count": 164,
   "id": "6c11be41-d26e-44eb-8a13-0e5e4b8bd8b6",
   "metadata": {},
   "outputs": [],
   "source": [
    "#### No difference in predictions for standardized vs non-standardized <a class=\"anchor\" id=\"standardize_vs_non_standardized\"></a>"
   ]
  },
  {
   "cell_type": "code",
   "execution_count": 153,
   "id": "published-excellence",
   "metadata": {},
   "outputs": [
    {
     "name": "stdout",
     "output_type": "stream",
     "text": [
      "[201000, 180000, 148000, 149350, 374000]\n",
      "[242037, 215721, 146976, 164710, 299724]\n"
     ]
    }
   ],
   "source": [
    "# Predict the y-values on the testing dataset & examine the first few\n",
    "y_preds = [int(x) for x in mymodel.predict(X_test)]\n",
    "print(list(y_test[:5]))\n",
    "print(y_preds[:5])"
   ]
  },
  {
   "cell_type": "code",
   "execution_count": 154,
   "id": "a1a9b82c-9fc0-447c-9413-702c9eaddf3d",
   "metadata": {},
   "outputs": [
    {
     "name": "stdout",
     "output_type": "stream",
     "text": [
      "[201000, 180000, 148000, 149350, 374000]\n",
      "[242037, 215721, 146976, 164710, 299724]\n"
     ]
    }
   ],
   "source": [
    "# Predict the y-values on the testing dataset & examine the first few\n",
    "y_preds2 = [int(x) for x in mymodel2.predict(Scaled_X_test)]\n",
    "print(list(y_test[:5]))\n",
    "print(y_preds2[:5])"
   ]
  },
  {
   "cell_type": "markdown",
   "id": "disturbed-approval",
   "metadata": {},
   "source": [
    "## Model Evaluation"
   ]
  },
  {
   "cell_type": "code",
   "execution_count": 155,
   "id": "circular-business",
   "metadata": {},
   "outputs": [
    {
     "data": {
      "image/png": "[encoded data removed]",
      "text/plain": [
       "<Figure size 432x432 with 1 Axes>"
      ]
     },
     "metadata": {
      "needs_background": "light"
     },
     "output_type": "display_data"
    }
   ],
   "source": [
    "# compare predictions to known values\n",
    "plt.figure(figsize=(6,6))\n",
    "ax = sns.regplot(x = y_preds, \n",
    "                 y = y_test, \n",
    "                 scatter_kws={\"color\": \"black\"}, \n",
    "                 line_kws={\"color\": \"red\"})\n",
    "ax.set(xlabel='predicted values', ylabel='true values');"
   ]
  },
  {
   "cell_type": "code",
   "execution_count": 156,
   "id": "278083b5-4cac-4868-bac5-d1e000a6c633",
   "metadata": {},
   "outputs": [
    {
     "data": {
      "image/png": "[encoded data removed]",
      "text/plain": [
       "<Figure size 432x432 with 1 Axes>"
      ]
     },
     "metadata": {
      "needs_background": "light"
     },
     "output_type": "display_data"
    }
   ],
   "source": [
    "# compare predictions to known values\n",
    "plt.figure(figsize=(6,6))\n",
    "ax = sns.regplot(x = y_preds2, \n",
    "                 y = y_test, \n",
    "                 scatter_kws={\"color\": \"black\"}, \n",
    "                 line_kws={\"color\": \"red\"})\n",
    "ax.set(xlabel='predicted values', ylabel='true values');"
   ]
  },
  {
   "cell_type": "code",
   "execution_count": 157,
   "id": "adjustable-lingerie",
   "metadata": {},
   "outputs": [
    {
     "data": {
      "text/plain": [
       "0.8"
      ]
     },
     "execution_count": 157,
     "metadata": {},
     "output_type": "execute_result"
    }
   ],
   "source": [
    "# R-2 (coefficient of determination)\n",
    "r2 = metrics.r2_score(y_test, y_preds)\n",
    "round(r2, 2)"
   ]
  },
  {
   "cell_type": "code",
   "execution_count": 158,
   "id": "746dc22d-e950-4626-a6f3-c2442781b2ea",
   "metadata": {},
   "outputs": [
    {
     "data": {
      "text/plain": [
       "0.8"
      ]
     },
     "execution_count": 158,
     "metadata": {},
     "output_type": "execute_result"
    }
   ],
   "source": [
    "# R-2 (coefficient of determination)\n",
    "r2 = metrics.r2_score(y_test, y_preds2)\n",
    "round(r2, 2)"
   ]
  },
  {
   "cell_type": "code",
   "execution_count": 159,
   "id": "fa77bee8-68e8-4b3d-8e94-be610bb4b4d0",
   "metadata": {},
   "outputs": [
    {
     "data": {
      "text/plain": [
       "0.8001141634253651"
      ]
     },
     "execution_count": 159,
     "metadata": {},
     "output_type": "execute_result"
    }
   ],
   "source": [
    "mymodel.score(X_test, y_test)"
   ]
  },
  {
   "cell_type": "code",
   "execution_count": 160,
   "id": "0a0e6585-bb05-4df6-8948-fcf227ba6141",
   "metadata": {},
   "outputs": [
    {
     "data": {
      "text/plain": [
       "0.8001141634253657"
      ]
     },
     "execution_count": 160,
     "metadata": {},
     "output_type": "execute_result"
    }
   ],
   "source": [
    "mymodel2.score(Scaled_X_test, y_test)"
   ]
  },
  {
   "cell_type": "code",
   "execution_count": 161,
   "id": "tracked-bankruptcy",
   "metadata": {},
   "outputs": [
    {
     "data": {
      "text/plain": [
       "29694.64445082295"
      ]
     },
     "execution_count": 161,
     "metadata": {},
     "output_type": "execute_result"
    }
   ],
   "source": [
    "# root mean sq error\n",
    "rmse = sqrt(metrics.mean_squared_error(y_test, y_preds))\n",
    "rmse"
   ]
  },
  {
   "cell_type": "code",
   "execution_count": 162,
   "id": "bc984f3e-bf2e-44d0-b8b6-49d0ebc162fd",
   "metadata": {},
   "outputs": [
    {
     "data": {
      "text/plain": [
       "29694.64445082295"
      ]
     },
     "execution_count": 162,
     "metadata": {},
     "output_type": "execute_result"
    }
   ],
   "source": [
    "# root mean sq error\n",
    "rmse2 = sqrt(metrics.mean_squared_error(y_test, y_preds2))\n",
    "rmse2"
   ]
  },
  {
   "cell_type": "code",
   "execution_count": 163,
   "id": "billion-focus",
   "metadata": {},
   "outputs": [
    {
     "name": "stdout",
     "output_type": "stream",
     "text": [
      "66424.62\n",
      "29694.64\n",
      "improvement: -36729.97\n"
     ]
    }
   ],
   "source": [
    "# is that more or less than if we just used the average as our model?\n",
    "avg_val = y_train.mean()\n",
    "comparison = np.full((len(y_test), ), avg_val)\n",
    "baseline=sqrt(metrics.mean_squared_error(y_test, comparison))\n",
    "print(round(baseline,2))\n",
    "print(round(rmse,2))\n",
    "print('improvement:',round(rmse-baseline,2))"
   ]
  },
  {
   "cell_type": "markdown",
   "id": "dried-history",
   "metadata": {},
   "source": [
    "## Make new predictions"
   ]
  },
  {
   "cell_type": "code",
   "execution_count": null,
   "id": "regulated-revelation",
   "metadata": {},
   "outputs": [],
   "source": [
    "# remember the linear regression equation?\n",
    "print(equation)"
   ]
  },
  {
   "cell_type": "code",
   "execution_count": null,
   "id": "hindu-valentine",
   "metadata": {},
   "outputs": [],
   "source": [
    "# make some fake data\n",
    "fake1= [[2010, 2, 3, 2000, 1,0]] # modest SF home\n",
    "fake2= [[2015, 3, 5, 4000, 1,1]] # large SF home in big neighborhood\n",
    "fake3= [[1980, 1, 2, 1000, 0,0]] # small home, not SF, outside big neighborhood"
   ]
  },
  {
   "cell_type": "code",
   "execution_count": null,
   "id": "controversial-reproduction",
   "metadata": {},
   "outputs": [],
   "source": [
    "# make predictions just using our equation:\n",
    "for data in [fake1, fake2, fake3]:\n",
    "    YearBuilt=data[0][0]\n",
    "    Bathrooms=data[0][1]\n",
    "    BedroomAbvGr=data[0][2]\n",
    "    TotalSF=data[0][3]\n",
    "    SingleFam=data[0][4]\n",
    "    LargeNeighborhood=data[0][5]\n",
    "    y = -1360501.3809 + 704.4287*YearBuilt + 12738.4775*Bathrooms + -7783.1712*BedroomAbvGr + 49.824*TotalSF+ 25282.091*SingleFam+ -6637.2636*LargeNeighborhood \n",
    "    print('$',int(y))"
   ]
  },
  {
   "cell_type": "code",
   "execution_count": null,
   "id": "reverse-strength",
   "metadata": {},
   "outputs": [],
   "source": [
    "# pickle your model\n",
    "import pickle\n",
    "filename = open('ames_housing_lr_model.pkl', 'wb')\n",
    "pickle.dump(mymodel, filename)\n",
    "filename.close()"
   ]
  },
  {
   "cell_type": "code",
   "execution_count": null,
   "id": "ruled-admission",
   "metadata": {},
   "outputs": [],
   "source": [
    "## read in our pickle file\n",
    "filename = open('ames_housing_lr_model.pkl', 'rb')\n",
    "unpickled_model = pickle.load(filename)\n",
    "filename.close()"
   ]
  },
  {
   "cell_type": "code",
   "execution_count": null,
   "id": "announced-manner",
   "metadata": {},
   "outputs": [],
   "source": [
    "# make predictions\n",
    "for data in [fake1, fake2, fake3]:\n",
    "    print('$',int(unpickled_model.predict(data)))"
   ]
  },
  {
   "cell_type": "markdown",
   "id": "thorough-services",
   "metadata": {},
   "source": [
    "## Turn that into a function"
   ]
  },
  {
   "cell_type": "code",
   "execution_count": null,
   "id": "overall-incentive",
   "metadata": {},
   "outputs": [],
   "source": [
    "def ames_lr_function(YearBuilt,Bathrooms,BedroomAbvGr,TotalSF,SingleFam,LargeNeighborhood):\n",
    "    checksum=0\n",
    "    for var in [YearBuilt,Bathrooms,BedroomAbvGr,TotalSF,SingleFam,LargeNeighborhood]:\n",
    "        if isinstance(var,int)==False:\n",
    "            checksum+=1\n",
    "    if (YearBuilt<1900)|(YearBuilt>2020):\n",
    "        checksum+=1\n",
    "    if (Bathrooms<1) | (Bathrooms>5):\n",
    "        checksum+=1\n",
    "    if (BedroomAbvGr<1) | (BedroomAbvGr>5):\n",
    "        checksum+=1\n",
    "    if (TotalSF<100)|(TotalSF>5000):\n",
    "        checksum+=1\n",
    "    if (SingleFam!=0) & (SingleFam!=1):\n",
    "        checksum+=1\n",
    "    if (LargeNeighborhood!=0) & (LargeNeighborhood!=1):\n",
    "        checksum+=1\n",
    "    if checksum>0:\n",
    "        return \"Please provide adequate inputs\"\n",
    "    else:\n",
    "        y = [-1360501.3809 + 704.4287*YearBuilt + 12738.4775*Bathrooms + -7783.1712*BedroomAbvGr + 49.824*TotalSF+ 25282.091*SingleFam+ -6637.2636*LargeNeighborhood]\n",
    "#         y = unpickled_model.predict([[YearBuilt,Bathrooms,BedroomAbvGr,TotalSF,SingleFam,LargeNeighborhood]])\n",
    "        formatted_y = \"${:,.2f}\".format(y[0])\n",
    "        return formatted_y "
   ]
  },
  {
   "cell_type": "code",
   "execution_count": null,
   "id": "annoying-white",
   "metadata": {},
   "outputs": [],
   "source": [
    "# test the function\n",
    "YearBuilt=2015\n",
    "Bathrooms=3\n",
    "BedroomAbvGr=3\n",
    "TotalSF=2000\n",
    "SingleFam=0\n",
    "LargeNeighborhood=1\n",
    "ames_lr_function(YearBuilt,Bathrooms,BedroomAbvGr,TotalSF,SingleFam,LargeNeighborhood)"
   ]
  },
  {
   "cell_type": "code",
   "execution_count": null,
   "id": "minimal-specification",
   "metadata": {},
   "outputs": [],
   "source": []
  }
 ],
 "metadata": {
  "instance_type": "ml.t3.medium",
  "kernelspec": {
   "display_name": "Python 3 (Data Science 2.0)",
   "language": "python",
   "name": "python3__SAGEMAKER_INTERNAL__arn:aws:sagemaker:us-west-2:236514542706:image/sagemaker-data-science-38"
  },
  "language_info": {
   "codemirror_mode": {
    "name": "ipython",
    "version": 3
   },
   "file_extension": ".py",
   "mimetype": "text/x-python",
   "name": "python",
   "nbconvert_exporter": "python",
   "pygments_lexer": "ipython3",
   "version": "3.8.13"
  }
 },
 "nbformat": 4,
 "nbformat_minor": 5
}
